{
 "cells": [
  {
   "cell_type": "markdown",
   "metadata": {},
   "source": [
    "# Global Terrorism Database Analysis Project"
   ]
  },
  {
   "cell_type": "markdown",
   "metadata": {},
   "source": [
    "This is a project exploring the Global Terrorism Database. A number of the terrorist attacks in the past forty years have not been associated with a particular group, and I am building a model to predict the responsible groups in those instances. The data set has around 160k attacks, each with around 130 different attributes with information about those attacks. The dataset guidebook can be found here: https://www.start.umd.edu/gtd/downloads/Codebook.pdf"
   ]
  },
  {
   "cell_type": "code",
   "execution_count": 1,
   "metadata": {
    "collapsed": true
   },
   "outputs": [],
   "source": [
    "# data analysis and wrangling\n",
    "import re, time\n",
    "import pandas as pd\n",
    "import numpy as np\n",
    "import random as rnd\n",
    "\n",
    "# visualization\n",
    "import seaborn as sns\n",
    "import matplotlib.pyplot as plt\n",
    "%matplotlib inline\n",
    "\n",
    "# machine learning\n",
    "from sklearn.model_selection import train_test_split\n",
    "from sklearn.linear_model import LogisticRegression\n",
    "from sklearn.svm import SVC, LinearSVC\n",
    "from sklearn.ensemble import RandomForestClassifier\n",
    "from sklearn.neighbors import KNeighborsClassifier\n",
    "from sklearn.linear_model import SGDClassifier\n",
    "from sklearn.tree import DecisionTreeClassifier"
   ]
  },
  {
   "cell_type": "code",
   "execution_count": 2,
   "metadata": {
    "collapsed": false
   },
   "outputs": [
    {
     "name": "stderr",
     "output_type": "stream",
     "text": [
      "/Users/abhisaar/anaconda/lib/python3.6/site-packages/IPython/core/interactiveshell.py:2717: DtypeWarning: Columns (4,61,62,66,116,117,123) have mixed types. Specify dtype option on import or set low_memory=False.\n",
      "  interactivity=interactivity, compiler=compiler, result=result)\n"
     ]
    },
    {
     "data": {
      "text/html": [
       "<div>\n",
       "<table border=\"1\" class=\"dataframe\">\n",
       "  <thead>\n",
       "    <tr style=\"text-align: right;\">\n",
       "      <th></th>\n",
       "      <th>iyear</th>\n",
       "      <th>crit1</th>\n",
       "      <th>crit2</th>\n",
       "      <th>crit3</th>\n",
       "      <th>multiple</th>\n",
       "      <th>country</th>\n",
       "      <th>region</th>\n",
       "      <th>attacktype1</th>\n",
       "      <th>suicide</th>\n",
       "      <th>weaptype1</th>\n",
       "      <th>targtype1</th>\n",
       "      <th>gname</th>\n",
       "    </tr>\n",
       "  </thead>\n",
       "  <tbody>\n",
       "    <tr>\n",
       "      <th>0</th>\n",
       "      <td>1970</td>\n",
       "      <td>1</td>\n",
       "      <td>1</td>\n",
       "      <td>1</td>\n",
       "      <td>0</td>\n",
       "      <td>58</td>\n",
       "      <td>2</td>\n",
       "      <td>1</td>\n",
       "      <td>0</td>\n",
       "      <td>13</td>\n",
       "      <td>14</td>\n",
       "      <td>MANO-D</td>\n",
       "    </tr>\n",
       "    <tr>\n",
       "      <th>1</th>\n",
       "      <td>1970</td>\n",
       "      <td>1</td>\n",
       "      <td>1</td>\n",
       "      <td>1</td>\n",
       "      <td>0</td>\n",
       "      <td>130</td>\n",
       "      <td>1</td>\n",
       "      <td>6</td>\n",
       "      <td>0</td>\n",
       "      <td>13</td>\n",
       "      <td>7</td>\n",
       "      <td>23rd of September Communist League</td>\n",
       "    </tr>\n",
       "    <tr>\n",
       "      <th>2</th>\n",
       "      <td>1970</td>\n",
       "      <td>1</td>\n",
       "      <td>1</td>\n",
       "      <td>1</td>\n",
       "      <td>0</td>\n",
       "      <td>160</td>\n",
       "      <td>5</td>\n",
       "      <td>1</td>\n",
       "      <td>0</td>\n",
       "      <td>13</td>\n",
       "      <td>10</td>\n",
       "      <td>Unknown</td>\n",
       "    </tr>\n",
       "    <tr>\n",
       "      <th>3</th>\n",
       "      <td>1970</td>\n",
       "      <td>1</td>\n",
       "      <td>1</td>\n",
       "      <td>1</td>\n",
       "      <td>0</td>\n",
       "      <td>78</td>\n",
       "      <td>8</td>\n",
       "      <td>3</td>\n",
       "      <td>0</td>\n",
       "      <td>6</td>\n",
       "      <td>7</td>\n",
       "      <td>Unknown</td>\n",
       "    </tr>\n",
       "    <tr>\n",
       "      <th>4</th>\n",
       "      <td>1970</td>\n",
       "      <td>1</td>\n",
       "      <td>1</td>\n",
       "      <td>1</td>\n",
       "      <td>0</td>\n",
       "      <td>101</td>\n",
       "      <td>4</td>\n",
       "      <td>7</td>\n",
       "      <td>0</td>\n",
       "      <td>8</td>\n",
       "      <td>7</td>\n",
       "      <td>Unknown</td>\n",
       "    </tr>\n",
       "  </tbody>\n",
       "</table>\n",
       "</div>"
      ],
      "text/plain": [
       "   iyear  crit1  crit2  crit3  multiple  country  region  attacktype1  \\\n",
       "0   1970      1      1      1         0       58       2            1   \n",
       "1   1970      1      1      1         0      130       1            6   \n",
       "2   1970      1      1      1         0      160       5            1   \n",
       "3   1970      1      1      1         0       78       8            3   \n",
       "4   1970      1      1      1         0      101       4            7   \n",
       "\n",
       "   suicide  weaptype1  targtype1                               gname  \n",
       "0        0         13         14                              MANO-D  \n",
       "1        0         13          7  23rd of September Communist League  \n",
       "2        0         13         10                             Unknown  \n",
       "3        0          6          7                             Unknown  \n",
       "4        0          8          7                             Unknown  "
      ]
     },
     "execution_count": 2,
     "metadata": {},
     "output_type": "execute_result"
    }
   ],
   "source": [
    "GTD_full = pd.read_csv('GTD_data.csv').fillna(np.nan)\n",
    "\n",
    "# Clean Data Set; intially keep features that seem relevant, take out text-based features\n",
    "keep_cols = ['iyear','crit1','crit2','crit3','multiple','country','region', \\\n",
    "            'attacktype1','suicide','weaptype1', 'targtype1','gname']\n",
    "GTD_cut = GTD_full[keep_cols]\n",
    "GTD_cut.head()"
   ]
  },
  {
   "cell_type": "markdown",
   "metadata": {},
   "source": [
    "# Preliminary Data Analysis"
   ]
  },
  {
   "cell_type": "code",
   "execution_count": 3,
   "metadata": {
    "collapsed": false,
    "scrolled": true
   },
   "outputs": [
    {
     "name": "stdout",
     "output_type": "stream",
     "text": [
      "<class 'pandas.core.frame.DataFrame'>\n",
      "RangeIndex: 156772 entries, 0 to 156771\n",
      "Data columns (total 12 columns):\n",
      "iyear          156772 non-null int64\n",
      "crit1          156772 non-null int64\n",
      "crit2          156772 non-null int64\n",
      "crit3          156772 non-null int64\n",
      "multiple       156772 non-null int64\n",
      "country        156772 non-null int64\n",
      "region         156772 non-null int64\n",
      "attacktype1    156772 non-null int64\n",
      "suicide        156772 non-null int64\n",
      "weaptype1      156772 non-null int64\n",
      "targtype1      156772 non-null int64\n",
      "gname          156772 non-null object\n",
      "dtypes: int64(11), object(1)\n",
      "memory usage: 14.4+ MB\n"
     ]
    },
    {
     "data": {
      "text/html": [
       "<div>\n",
       "<table border=\"1\" class=\"dataframe\">\n",
       "  <thead>\n",
       "    <tr style=\"text-align: right;\">\n",
       "      <th></th>\n",
       "      <th>iyear</th>\n",
       "      <th>crit1</th>\n",
       "      <th>crit2</th>\n",
       "      <th>crit3</th>\n",
       "      <th>multiple</th>\n",
       "      <th>country</th>\n",
       "      <th>region</th>\n",
       "      <th>attacktype1</th>\n",
       "      <th>suicide</th>\n",
       "      <th>weaptype1</th>\n",
       "      <th>targtype1</th>\n",
       "    </tr>\n",
       "  </thead>\n",
       "  <tbody>\n",
       "    <tr>\n",
       "      <th>count</th>\n",
       "      <td>156772.000000</td>\n",
       "      <td>156772.000000</td>\n",
       "      <td>156772.000000</td>\n",
       "      <td>156772.000000</td>\n",
       "      <td>156772.000000</td>\n",
       "      <td>156772.000000</td>\n",
       "      <td>156772.000000</td>\n",
       "      <td>156772.000000</td>\n",
       "      <td>156772.000000</td>\n",
       "      <td>156772.000000</td>\n",
       "      <td>156772.000000</td>\n",
       "    </tr>\n",
       "    <tr>\n",
       "      <th>mean</th>\n",
       "      <td>2000.474083</td>\n",
       "      <td>0.988327</td>\n",
       "      <td>0.992690</td>\n",
       "      <td>0.882919</td>\n",
       "      <td>0.130374</td>\n",
       "      <td>133.087401</td>\n",
       "      <td>6.970097</td>\n",
       "      <td>3.187081</td>\n",
       "      <td>0.030433</td>\n",
       "      <td>6.408587</td>\n",
       "      <td>8.305112</td>\n",
       "    </tr>\n",
       "    <tr>\n",
       "      <th>std</th>\n",
       "      <td>12.982397</td>\n",
       "      <td>0.107410</td>\n",
       "      <td>0.085186</td>\n",
       "      <td>0.321518</td>\n",
       "      <td>0.336716</td>\n",
       "      <td>113.946290</td>\n",
       "      <td>2.967803</td>\n",
       "      <td>1.870064</td>\n",
       "      <td>0.171775</td>\n",
       "      <td>2.130785</td>\n",
       "      <td>6.642518</td>\n",
       "    </tr>\n",
       "    <tr>\n",
       "      <th>min</th>\n",
       "      <td>1970.000000</td>\n",
       "      <td>0.000000</td>\n",
       "      <td>0.000000</td>\n",
       "      <td>0.000000</td>\n",
       "      <td>0.000000</td>\n",
       "      <td>4.000000</td>\n",
       "      <td>1.000000</td>\n",
       "      <td>1.000000</td>\n",
       "      <td>0.000000</td>\n",
       "      <td>1.000000</td>\n",
       "      <td>1.000000</td>\n",
       "    </tr>\n",
       "    <tr>\n",
       "      <th>25%</th>\n",
       "      <td>1989.000000</td>\n",
       "      <td>1.000000</td>\n",
       "      <td>1.000000</td>\n",
       "      <td>1.000000</td>\n",
       "      <td>0.000000</td>\n",
       "      <td>69.000000</td>\n",
       "      <td>5.000000</td>\n",
       "      <td>2.000000</td>\n",
       "      <td>0.000000</td>\n",
       "      <td>5.000000</td>\n",
       "      <td>3.000000</td>\n",
       "    </tr>\n",
       "    <tr>\n",
       "      <th>50%</th>\n",
       "      <td>2005.000000</td>\n",
       "      <td>1.000000</td>\n",
       "      <td>1.000000</td>\n",
       "      <td>1.000000</td>\n",
       "      <td>0.000000</td>\n",
       "      <td>101.000000</td>\n",
       "      <td>6.000000</td>\n",
       "      <td>3.000000</td>\n",
       "      <td>0.000000</td>\n",
       "      <td>6.000000</td>\n",
       "      <td>4.000000</td>\n",
       "    </tr>\n",
       "    <tr>\n",
       "      <th>75%</th>\n",
       "      <td>2013.000000</td>\n",
       "      <td>1.000000</td>\n",
       "      <td>1.000000</td>\n",
       "      <td>1.000000</td>\n",
       "      <td>0.000000</td>\n",
       "      <td>160.000000</td>\n",
       "      <td>10.000000</td>\n",
       "      <td>3.000000</td>\n",
       "      <td>0.000000</td>\n",
       "      <td>6.000000</td>\n",
       "      <td>14.000000</td>\n",
       "    </tr>\n",
       "    <tr>\n",
       "      <th>max</th>\n",
       "      <td>2015.000000</td>\n",
       "      <td>1.000000</td>\n",
       "      <td>1.000000</td>\n",
       "      <td>1.000000</td>\n",
       "      <td>1.000000</td>\n",
       "      <td>1004.000000</td>\n",
       "      <td>12.000000</td>\n",
       "      <td>9.000000</td>\n",
       "      <td>1.000000</td>\n",
       "      <td>13.000000</td>\n",
       "      <td>22.000000</td>\n",
       "    </tr>\n",
       "  </tbody>\n",
       "</table>\n",
       "</div>"
      ],
      "text/plain": [
       "               iyear          crit1          crit2          crit3  \\\n",
       "count  156772.000000  156772.000000  156772.000000  156772.000000   \n",
       "mean     2000.474083       0.988327       0.992690       0.882919   \n",
       "std        12.982397       0.107410       0.085186       0.321518   \n",
       "min      1970.000000       0.000000       0.000000       0.000000   \n",
       "25%      1989.000000       1.000000       1.000000       1.000000   \n",
       "50%      2005.000000       1.000000       1.000000       1.000000   \n",
       "75%      2013.000000       1.000000       1.000000       1.000000   \n",
       "max      2015.000000       1.000000       1.000000       1.000000   \n",
       "\n",
       "            multiple        country         region    attacktype1  \\\n",
       "count  156772.000000  156772.000000  156772.000000  156772.000000   \n",
       "mean        0.130374     133.087401       6.970097       3.187081   \n",
       "std         0.336716     113.946290       2.967803       1.870064   \n",
       "min         0.000000       4.000000       1.000000       1.000000   \n",
       "25%         0.000000      69.000000       5.000000       2.000000   \n",
       "50%         0.000000     101.000000       6.000000       3.000000   \n",
       "75%         0.000000     160.000000      10.000000       3.000000   \n",
       "max         1.000000    1004.000000      12.000000       9.000000   \n",
       "\n",
       "             suicide      weaptype1      targtype1  \n",
       "count  156772.000000  156772.000000  156772.000000  \n",
       "mean        0.030433       6.408587       8.305112  \n",
       "std         0.171775       2.130785       6.642518  \n",
       "min         0.000000       1.000000       1.000000  \n",
       "25%         0.000000       5.000000       3.000000  \n",
       "50%         0.000000       6.000000       4.000000  \n",
       "75%         0.000000       6.000000      14.000000  \n",
       "max         1.000000      13.000000      22.000000  "
      ]
     },
     "execution_count": 3,
     "metadata": {},
     "output_type": "execute_result"
    }
   ],
   "source": [
    "GTD_cut.info()\n",
    "GTD_cut.describe()"
   ]
  },
  {
   "cell_type": "code",
   "execution_count": 4,
   "metadata": {
    "collapsed": false
   },
   "outputs": [
    {
     "data": {
      "text/plain": [
       "count    156772.000000\n",
       "mean        133.087401\n",
       "std         113.946290\n",
       "min           4.000000\n",
       "25%          69.000000\n",
       "50%         101.000000\n",
       "75%         160.000000\n",
       "max        1004.000000\n",
       "Name: country, dtype: float64"
      ]
     },
     "execution_count": 4,
     "metadata": {},
     "output_type": "execute_result"
    }
   ],
   "source": [
    "GTD_cut.country.describe()"
   ]
  },
  {
   "cell_type": "code",
   "execution_count": 5,
   "metadata": {
    "collapsed": false
   },
   "outputs": [
    {
     "name": "stdout",
     "output_type": "stream",
     "text": [
      "iyear 45\n",
      "crit1 2\n",
      "crit2 2\n",
      "crit3 2\n",
      "multiple 2\n",
      "country 206\n",
      "region 12\n",
      "attacktype1 9\n",
      "suicide 2\n",
      "weaptype1 12\n",
      "targtype1 22\n",
      "gname 3290\n"
     ]
    }
   ],
   "source": [
    "# Check how many unique categories are in each feature\n",
    "for x in GTD_cut:\n",
    "    print(x, len(np.unique(GTD_cut[x])))"
   ]
  },
  {
   "cell_type": "markdown",
   "metadata": {},
   "source": [
    "# Data Wrangling"
   ]
  },
  {
   "cell_type": "code",
   "execution_count": 6,
   "metadata": {
    "collapsed": false
   },
   "outputs": [
    {
     "name": "stderr",
     "output_type": "stream",
     "text": [
      "/Users/abhisaar/anaconda/lib/python3.6/site-packages/ipykernel/__main__.py:2: SettingWithCopyWarning: \n",
      "A value is trying to be set on a copy of a slice from a DataFrame.\n",
      "Try using .loc[row_indexer,col_indexer] = value instead\n",
      "\n",
      "See the caveats in the documentation: http://pandas.pydata.org/pandas-docs/stable/indexing.html#indexing-view-versus-copy\n",
      "  from ipykernel import kernelapp as app\n"
     ]
    }
   ],
   "source": [
    "# Change year variable into 5-year ranges\n",
    "GTD_cut['iyear'] = pd.cut(GTD_cut['iyear'], 8).astype(str)\n",
    "ranges = np.unique(GTD_cut['iyear'])\n",
    "ranges = {x: y for (x,y) in zip(ranges, range(len(ranges)))}\n",
    "GTD_cut = GTD_cut.replace({'iyear': ranges})"
   ]
  },
  {
   "cell_type": "code",
   "execution_count": 7,
   "metadata": {
    "collapsed": false
   },
   "outputs": [
    {
     "data": {
      "text/plain": [
       "<matplotlib.text.Text at 0x11e613470>"
      ]
     },
     "execution_count": 7,
     "metadata": {},
     "output_type": "execute_result"
    },
    {
     "data": {
      "image/png": "[encoded data removed]",
      "text/plain": [
       "<matplotlib.figure.Figure at 0x10431f470>"
      ]
     },
     "metadata": {},
     "output_type": "display_data"
    }
   ],
   "source": [
    "group = 'Taliban'\n",
    "feature = 'weaptype1'\n",
    "GTD_cut.loc[GTD_cut['gname'] == group][feature].hist()\n",
    "plt.title('Histogram of Weapon Type - ' + group)\n",
    "plt.xlabel(feature)\n",
    "plt.ylabel('Frequency')"
   ]
  },
  {
   "cell_type": "code",
   "execution_count": 8,
   "metadata": {
    "collapsed": false,
    "scrolled": true
   },
   "outputs": [
    {
     "data": {
      "image/png": "[encoded data removed]",
      "text/plain": [
       "<matplotlib.figure.Figure at 0x110779eb8>"
      ]
     },
     "metadata": {},
     "output_type": "display_data"
    }
   ],
   "source": [
    "unique, counts = np.unique(GTD_cut['country'], return_counts=True)\n",
    "countries = dict(zip(unique, counts))\n",
    "plt.bar(range(len(countries)), countries.values(), align='center')\n",
    "plt.xticks(range(len(countries)), countries.keys())\n",
    "line = np.array([500 for x in range(len(countries))])\n",
    "plt.plot(line, linewidth=.5)\n",
    "plt.title('Histogram of Country')\n",
    "plt.xlabel('Country')\n",
    "plt.ylabel('Frequency')\n",
    "plt.show()"
   ]
  },
  {
   "cell_type": "code",
   "execution_count": 9,
   "metadata": {
    "collapsed": false
   },
   "outputs": [],
   "source": [
    "# Consolidate country values\n",
    "GTD_cut['country'] = GTD_cut['country'].apply(lambda x: 0 if countries[x] < 500 else x)"
   ]
  },
  {
   "cell_type": "code",
   "execution_count": 10,
   "metadata": {
    "collapsed": true
   },
   "outputs": [],
   "source": [
    "# Change categorical strings to ints\n",
    "unique = np.unique(GTD_cut['gname'])\n",
    "groups = {x: y for (x,y) in zip(unique, range(1,len(unique)+1))}\n",
    "inv_groups = {y: x for (x,y) in zip(unique, range(1,len(unique)+1))}\n",
    "GTD_cut = GTD_cut.replace({'gname': groups})"
   ]
  },
  {
   "cell_type": "code",
   "execution_count": 11,
   "metadata": {
    "collapsed": false
   },
   "outputs": [
    {
     "data": {
      "image/png": "[encoded data removed]",
      "text/plain": [
       "<matplotlib.figure.Figure at 0x11e629be0>"
      ]
     },
     "metadata": {},
     "output_type": "display_data"
    }
   ],
   "source": [
    "# Graph frequency of groups\n",
    "unique, counts = np.unique(GTD_cut['gname'], return_counts=True)\n",
    "group_freq = dict(zip(unique, counts))\n",
    "plt.bar(range(len(group_freq)), group_freq.values(), align='center')\n",
    "plt.xticks(range(len(group_freq)), group_freq.keys())\n",
    "line = np.array([20 for x in range(len(group_freq))])\n",
    "plt.plot(line, linewidth=.5)\n",
    "plt.title('Histogram of Groups')\n",
    "plt.xlabel('Country')\n",
    "plt.ylabel('Frequency')\n",
    "axes = plt.gca()\n",
    "axes.set_ylim([0,1000])\n",
    "plt.show()"
   ]
  },
  {
   "cell_type": "code",
   "execution_count": 12,
   "metadata": {
    "collapsed": false
   },
   "outputs": [],
   "source": [
    "# Consolidate group values\n",
    "GTD_cut['gname'] = GTD_cut['gname'].apply(lambda x: 0 if group_freq[x] < 20 else x)"
   ]
  },
  {
   "cell_type": "code",
   "execution_count": 13,
   "metadata": {
    "collapsed": false
   },
   "outputs": [
    {
     "name": "stdout",
     "output_type": "stream",
     "text": [
      "iyear 8\n",
      "crit1 2\n",
      "crit2 2\n",
      "crit3 2\n",
      "multiple 2\n",
      "country 44\n",
      "region 12\n",
      "attacktype1 9\n",
      "suicide 2\n",
      "weaptype1 12\n",
      "targtype1 22\n",
      "gname 352\n"
     ]
    }
   ],
   "source": [
    "# Check how many unique categories are in each feature\n",
    "for x in GTD_cut:\n",
    "    print(x, len(np.unique(GTD_cut[x])))"
   ]
  },
  {
   "cell_type": "code",
   "execution_count": 14,
   "metadata": {
    "collapsed": false
   },
   "outputs": [],
   "source": [
    "# Convert categorical features into dummy matrices\n",
    "cat_features = ['country','region', 'attacktype1','weaptype1', 'targtype1']\n",
    "\n",
    "for feature in cat_features:\n",
    "    GTD_cut = pd.concat([GTD_cut, pd.get_dummies(GTD_cut[feature], prefix=(feature))], axis=1).drop(feature, 1)"
   ]
  },
  {
   "cell_type": "markdown",
   "metadata": {},
   "source": [
    "# Model Training and Testing"
   ]
  },
  {
   "cell_type": "code",
   "execution_count": 15,
   "metadata": {
    "collapsed": false
   },
   "outputs": [],
   "source": [
    "GTD_known = GTD_cut[GTD_cut.gname != groups[\"Unknown\"]]\n",
    "GTD_unknown = GTD_cut[GTD_cut.gname == groups[\"Unknown\"]]\n",
    "\n",
    "X = GTD_known.drop('gname', axis=1)\n",
    "y = GTD_known.gname\n",
    "#y = pd.get_dummies(GTD_known.gname, prefix=('gname'))\n",
    "\n",
    "X_train, X_test, y_train, y_test = train_test_split(X, y, test_size=0.33, random_state=42)\n",
    "train_df = X_train.copy()\n",
    "train_df = pd.concat([train_df, y_train], axis=1)"
   ]
  },
  {
   "cell_type": "code",
   "execution_count": 80,
   "metadata": {
    "collapsed": false
   },
   "outputs": [
    {
     "data": {
      "text/plain": [
       "LogisticRegression(C=1.0, class_weight=None, dual=False, fit_intercept=True,\n",
       "          intercept_scaling=1, max_iter=100, multi_class='ovr', n_jobs=1,\n",
       "          penalty='l2', random_state=None, solver='liblinear', tol=0.0001,\n",
       "          verbose=0, warm_start=False)"
      ]
     },
     "execution_count": 80,
     "metadata": {},
     "output_type": "execute_result"
    }
   ],
   "source": [
    "# Logistic Regression\n",
    "logreg = LogisticRegression()\n",
    "logreg.fit(X_train, y_train)"
   ]
  },
  {
   "cell_type": "code",
   "execution_count": 81,
   "metadata": {
    "collapsed": false
   },
   "outputs": [
    {
     "name": "stdout",
     "output_type": "stream",
     "text": [
      "Accuracy_train: 64.31%\n",
      "Accuracy_test: 62.71%\n"
     ]
    }
   ],
   "source": [
    "# Print Accuracies\n",
    "acc_log = round(logreg.score(X_train, y_train) * 100, 2)\n",
    "print(\"Accuracy_train: {}%\".format(acc_log))\n",
    "\n",
    "acc_log = round(logreg.score(X_test, y_test) * 100, 2)\n",
    "print(\"Accuracy_test: {}%\".format(acc_log))"
   ]
  },
  {
   "cell_type": "code",
   "execution_count": 82,
   "metadata": {
    "collapsed": false
   },
   "outputs": [
    {
     "data": {
      "text/html": [
       "<div>\n",
       "<table border=\"1\" class=\"dataframe\">\n",
       "  <thead>\n",
       "    <tr style=\"text-align: right;\">\n",
       "      <th></th>\n",
       "      <th>Correlation</th>\n",
       "      <th>Feature</th>\n",
       "    </tr>\n",
       "  </thead>\n",
       "  <tbody>\n",
       "    <tr>\n",
       "      <th>1</th>\n",
       "      <td>-1.958655</td>\n",
       "      <td>crit1</td>\n",
       "    </tr>\n",
       "    <tr>\n",
       "      <th>2</th>\n",
       "      <td>-1.673282</td>\n",
       "      <td>crit2</td>\n",
       "    </tr>\n",
       "    <tr>\n",
       "      <th>3</th>\n",
       "      <td>-1.031777</td>\n",
       "      <td>crit3</td>\n",
       "    </tr>\n",
       "    <tr>\n",
       "      <th>86</th>\n",
       "      <td>-0.832950</td>\n",
       "      <td>targtype1_4</td>\n",
       "    </tr>\n",
       "    <tr>\n",
       "      <th>74</th>\n",
       "      <td>-0.623034</td>\n",
       "      <td>weaptype1_5</td>\n",
       "    </tr>\n",
       "    <tr>\n",
       "      <th>82</th>\n",
       "      <td>-0.617361</td>\n",
       "      <td>weaptype1_13</td>\n",
       "    </tr>\n",
       "    <tr>\n",
       "      <th>75</th>\n",
       "      <td>-0.505708</td>\n",
       "      <td>weaptype1_6</td>\n",
       "    </tr>\n",
       "    <tr>\n",
       "      <th>77</th>\n",
       "      <td>-0.501948</td>\n",
       "      <td>weaptype1_8</td>\n",
       "    </tr>\n",
       "    <tr>\n",
       "      <th>52</th>\n",
       "      <td>-0.496076</td>\n",
       "      <td>region_3</td>\n",
       "    </tr>\n",
       "    <tr>\n",
       "      <th>62</th>\n",
       "      <td>-0.468972</td>\n",
       "      <td>attacktype1_1</td>\n",
       "    </tr>\n",
       "    <tr>\n",
       "      <th>57</th>\n",
       "      <td>-0.434280</td>\n",
       "      <td>region_8</td>\n",
       "    </tr>\n",
       "    <tr>\n",
       "      <th>68</th>\n",
       "      <td>-0.421961</td>\n",
       "      <td>attacktype1_7</td>\n",
       "    </tr>\n",
       "    <tr>\n",
       "      <th>63</th>\n",
       "      <td>-0.408641</td>\n",
       "      <td>attacktype1_2</td>\n",
       "    </tr>\n",
       "    <tr>\n",
       "      <th>59</th>\n",
       "      <td>-0.386861</td>\n",
       "      <td>region_10</td>\n",
       "    </tr>\n",
       "    <tr>\n",
       "      <th>67</th>\n",
       "      <td>-0.367677</td>\n",
       "      <td>attacktype1_6</td>\n",
       "    </tr>\n",
       "    <tr>\n",
       "      <th>64</th>\n",
       "      <td>-0.356090</td>\n",
       "      <td>attacktype1_3</td>\n",
       "    </tr>\n",
       "    <tr>\n",
       "      <th>78</th>\n",
       "      <td>-0.356082</td>\n",
       "      <td>weaptype1_9</td>\n",
       "    </tr>\n",
       "    <tr>\n",
       "      <th>99</th>\n",
       "      <td>-0.351436</td>\n",
       "      <td>targtype1_17</td>\n",
       "    </tr>\n",
       "    <tr>\n",
       "      <th>0</th>\n",
       "      <td>-0.340423</td>\n",
       "      <td>iyear</td>\n",
       "    </tr>\n",
       "    <tr>\n",
       "      <th>60</th>\n",
       "      <td>-0.331148</td>\n",
       "      <td>region_11</td>\n",
       "    </tr>\n",
       "    <tr>\n",
       "      <th>49</th>\n",
       "      <td>-0.291828</td>\n",
       "      <td>country_603</td>\n",
       "    </tr>\n",
       "    <tr>\n",
       "      <th>51</th>\n",
       "      <td>-0.291645</td>\n",
       "      <td>region_2</td>\n",
       "    </tr>\n",
       "    <tr>\n",
       "      <th>70</th>\n",
       "      <td>-0.290027</td>\n",
       "      <td>attacktype1_9</td>\n",
       "    </tr>\n",
       "    <tr>\n",
       "      <th>34</th>\n",
       "      <td>-0.274615</td>\n",
       "      <td>country_159</td>\n",
       "    </tr>\n",
       "    <tr>\n",
       "      <th>55</th>\n",
       "      <td>-0.266797</td>\n",
       "      <td>region_6</td>\n",
       "    </tr>\n",
       "    <tr>\n",
       "      <th>7</th>\n",
       "      <td>-0.251381</td>\n",
       "      <td>country_4</td>\n",
       "    </tr>\n",
       "    <tr>\n",
       "      <th>15</th>\n",
       "      <td>-0.247286</td>\n",
       "      <td>country_61</td>\n",
       "    </tr>\n",
       "    <tr>\n",
       "      <th>35</th>\n",
       "      <td>-0.221565</td>\n",
       "      <td>country_160</td>\n",
       "    </tr>\n",
       "    <tr>\n",
       "      <th>6</th>\n",
       "      <td>0.218945</td>\n",
       "      <td>country_0</td>\n",
       "    </tr>\n",
       "    <tr>\n",
       "      <th>13</th>\n",
       "      <td>-0.217691</td>\n",
       "      <td>country_45</td>\n",
       "    </tr>\n",
       "    <tr>\n",
       "      <th>...</th>\n",
       "      <td>...</td>\n",
       "      <td>...</td>\n",
       "    </tr>\n",
       "    <tr>\n",
       "      <th>11</th>\n",
       "      <td>0.032178</td>\n",
       "      <td>country_34</td>\n",
       "    </tr>\n",
       "    <tr>\n",
       "      <th>76</th>\n",
       "      <td>-0.031276</td>\n",
       "      <td>weaptype1_7</td>\n",
       "    </tr>\n",
       "    <tr>\n",
       "      <th>26</th>\n",
       "      <td>-0.028084</td>\n",
       "      <td>country_104</td>\n",
       "    </tr>\n",
       "    <tr>\n",
       "      <th>27</th>\n",
       "      <td>-0.027635</td>\n",
       "      <td>country_110</td>\n",
       "    </tr>\n",
       "    <tr>\n",
       "      <th>80</th>\n",
       "      <td>-0.024732</td>\n",
       "      <td>weaptype1_11</td>\n",
       "    </tr>\n",
       "    <tr>\n",
       "      <th>81</th>\n",
       "      <td>-0.022524</td>\n",
       "      <td>weaptype1_12</td>\n",
       "    </tr>\n",
       "    <tr>\n",
       "      <th>21</th>\n",
       "      <td>0.021526</td>\n",
       "      <td>country_93</td>\n",
       "    </tr>\n",
       "    <tr>\n",
       "      <th>24</th>\n",
       "      <td>-0.021209</td>\n",
       "      <td>country_97</td>\n",
       "    </tr>\n",
       "    <tr>\n",
       "      <th>87</th>\n",
       "      <td>-0.020953</td>\n",
       "      <td>targtype1_5</td>\n",
       "    </tr>\n",
       "    <tr>\n",
       "      <th>71</th>\n",
       "      <td>-0.019831</td>\n",
       "      <td>weaptype1_1</td>\n",
       "    </tr>\n",
       "    <tr>\n",
       "      <th>8</th>\n",
       "      <td>0.019039</td>\n",
       "      <td>country_6</td>\n",
       "    </tr>\n",
       "    <tr>\n",
       "      <th>100</th>\n",
       "      <td>-0.016030</td>\n",
       "      <td>targtype1_18</td>\n",
       "    </tr>\n",
       "    <tr>\n",
       "      <th>93</th>\n",
       "      <td>-0.015186</td>\n",
       "      <td>targtype1_11</td>\n",
       "    </tr>\n",
       "    <tr>\n",
       "      <th>22</th>\n",
       "      <td>0.013670</td>\n",
       "      <td>country_94</td>\n",
       "    </tr>\n",
       "    <tr>\n",
       "      <th>36</th>\n",
       "      <td>-0.013232</td>\n",
       "      <td>country_167</td>\n",
       "    </tr>\n",
       "    <tr>\n",
       "      <th>95</th>\n",
       "      <td>-0.012451</td>\n",
       "      <td>targtype1_13</td>\n",
       "    </tr>\n",
       "    <tr>\n",
       "      <th>91</th>\n",
       "      <td>-0.011948</td>\n",
       "      <td>targtype1_9</td>\n",
       "    </tr>\n",
       "    <tr>\n",
       "      <th>43</th>\n",
       "      <td>0.011642</td>\n",
       "      <td>country_205</td>\n",
       "    </tr>\n",
       "    <tr>\n",
       "      <th>17</th>\n",
       "      <td>0.011524</td>\n",
       "      <td>country_75</td>\n",
       "    </tr>\n",
       "    <tr>\n",
       "      <th>56</th>\n",
       "      <td>-0.010924</td>\n",
       "      <td>region_7</td>\n",
       "    </tr>\n",
       "    <tr>\n",
       "      <th>41</th>\n",
       "      <td>0.010092</td>\n",
       "      <td>country_195</td>\n",
       "    </tr>\n",
       "    <tr>\n",
       "      <th>14</th>\n",
       "      <td>0.008373</td>\n",
       "      <td>country_60</td>\n",
       "    </tr>\n",
       "    <tr>\n",
       "      <th>18</th>\n",
       "      <td>-0.008077</td>\n",
       "      <td>country_78</td>\n",
       "    </tr>\n",
       "    <tr>\n",
       "      <th>20</th>\n",
       "      <td>-0.006309</td>\n",
       "      <td>country_92</td>\n",
       "    </tr>\n",
       "    <tr>\n",
       "      <th>28</th>\n",
       "      <td>-0.006210</td>\n",
       "      <td>country_113</td>\n",
       "    </tr>\n",
       "    <tr>\n",
       "      <th>16</th>\n",
       "      <td>0.005526</td>\n",
       "      <td>country_69</td>\n",
       "    </tr>\n",
       "    <tr>\n",
       "      <th>19</th>\n",
       "      <td>0.004210</td>\n",
       "      <td>country_83</td>\n",
       "    </tr>\n",
       "    <tr>\n",
       "      <th>61</th>\n",
       "      <td>-0.003170</td>\n",
       "      <td>region_12</td>\n",
       "    </tr>\n",
       "    <tr>\n",
       "      <th>73</th>\n",
       "      <td>-0.002956</td>\n",
       "      <td>weaptype1_3</td>\n",
       "    </tr>\n",
       "    <tr>\n",
       "      <th>48</th>\n",
       "      <td>0.002190</td>\n",
       "      <td>country_362</td>\n",
       "    </tr>\n",
       "  </tbody>\n",
       "</table>\n",
       "<p>105 rows × 2 columns</p>\n",
       "</div>"
      ],
      "text/plain": [
       "     Correlation        Feature\n",
       "1      -1.958655          crit1\n",
       "2      -1.673282          crit2\n",
       "3      -1.031777          crit3\n",
       "86     -0.832950    targtype1_4\n",
       "74     -0.623034    weaptype1_5\n",
       "82     -0.617361   weaptype1_13\n",
       "75     -0.505708    weaptype1_6\n",
       "77     -0.501948    weaptype1_8\n",
       "52     -0.496076       region_3\n",
       "62     -0.468972  attacktype1_1\n",
       "57     -0.434280       region_8\n",
       "68     -0.421961  attacktype1_7\n",
       "63     -0.408641  attacktype1_2\n",
       "59     -0.386861      region_10\n",
       "67     -0.367677  attacktype1_6\n",
       "64     -0.356090  attacktype1_3\n",
       "78     -0.356082    weaptype1_9\n",
       "99     -0.351436   targtype1_17\n",
       "0      -0.340423          iyear\n",
       "60     -0.331148      region_11\n",
       "49     -0.291828    country_603\n",
       "51     -0.291645       region_2\n",
       "70     -0.290027  attacktype1_9\n",
       "34     -0.274615    country_159\n",
       "55     -0.266797       region_6\n",
       "7      -0.251381      country_4\n",
       "15     -0.247286     country_61\n",
       "35     -0.221565    country_160\n",
       "6       0.218945      country_0\n",
       "13     -0.217691     country_45\n",
       "..           ...            ...\n",
       "11      0.032178     country_34\n",
       "76     -0.031276    weaptype1_7\n",
       "26     -0.028084    country_104\n",
       "27     -0.027635    country_110\n",
       "80     -0.024732   weaptype1_11\n",
       "81     -0.022524   weaptype1_12\n",
       "21      0.021526     country_93\n",
       "24     -0.021209     country_97\n",
       "87     -0.020953    targtype1_5\n",
       "71     -0.019831    weaptype1_1\n",
       "8       0.019039      country_6\n",
       "100    -0.016030   targtype1_18\n",
       "93     -0.015186   targtype1_11\n",
       "22      0.013670     country_94\n",
       "36     -0.013232    country_167\n",
       "95     -0.012451   targtype1_13\n",
       "91     -0.011948    targtype1_9\n",
       "43      0.011642    country_205\n",
       "17      0.011524     country_75\n",
       "56     -0.010924       region_7\n",
       "41      0.010092    country_195\n",
       "14      0.008373     country_60\n",
       "18     -0.008077     country_78\n",
       "20     -0.006309     country_92\n",
       "28     -0.006210    country_113\n",
       "16      0.005526     country_69\n",
       "19      0.004210     country_83\n",
       "61     -0.003170      region_12\n",
       "73     -0.002956    weaptype1_3\n",
       "48      0.002190    country_362\n",
       "\n",
       "[105 rows x 2 columns]"
      ]
     },
     "execution_count": 82,
     "metadata": {},
     "output_type": "execute_result"
    }
   ],
   "source": [
    "# Check correlations\n",
    "corr = pd.DataFrame({\"Feature\": X_train.columns, \"Correlation\": logreg.coef_.mean(axis=0)})\n",
    "corr['sort'] = corr.Correlation.abs()\n",
    "corr.sort_values(by='sort', ascending=False).drop('sort', axis=1)"
   ]
  },
  {
   "cell_type": "code",
   "execution_count": null,
   "metadata": {
    "collapsed": false,
    "scrolled": true
   },
   "outputs": [
    {
     "data": {
      "text/plain": [
       "SVC(C=1.0, cache_size=200, class_weight=None, coef0=0.0,\n",
       "  decision_function_shape=None, degree=3, gamma='auto', kernel='rbf',\n",
       "  max_iter=-1, probability=False, random_state=None, shrinking=True,\n",
       "  tol=0.001, verbose=False)"
      ]
     },
     "execution_count": 16,
     "metadata": {},
     "output_type": "execute_result"
    }
   ],
   "source": [
    "svc = SVC()\n",
    "svc.fit(X_train, y_train)"
   ]
  },
  {
   "cell_type": "code",
   "execution_count": null,
   "metadata": {
    "collapsed": false
   },
   "outputs": [],
   "source": [
    "acc_svc = round(svc.score(X_train, y_train) * 100, 2)\n",
    "print(\"Accuracy_train: {}%\".format(acc_svc))\n",
    "\n",
    "acc_svc = round(svc.score(X_test, y_test) * 100, 2)\n",
    "print(\"Accuracy_test: {}%\".format(acc_svc))"
   ]
  },
  {
   "cell_type": "code",
   "execution_count": 16,
   "metadata": {
    "collapsed": false
   },
   "outputs": [
    {
     "data": {
      "text/plain": [
       "KNeighborsClassifier(algorithm='auto', leaf_size=30, metric='minkowski',\n",
       "           metric_params=None, n_jobs=1, n_neighbors=5, p=2,\n",
       "           weights='uniform')"
      ]
     },
     "execution_count": 16,
     "metadata": {},
     "output_type": "execute_result"
    }
   ],
   "source": [
    "knn = KNeighborsClassifier(n_neighbors = 5)\n",
    "knn.fit(X_train, y_train)"
   ]
  },
  {
   "cell_type": "code",
   "execution_count": 17,
   "metadata": {
    "collapsed": false
   },
   "outputs": [
    {
     "name": "stdout",
     "output_type": "stream",
     "text": [
      "Accuracy_train: 69.57%\n",
      "Accuracy_test: 63.58%\n"
     ]
    }
   ],
   "source": [
    "acc_knn = round(knn.score(X_train, y_train) * 100, 2)\n",
    "print(\"Accuracy_train: {}%\".format(acc_knn))\n",
    "\n",
    "acc_knn = round(knn.score(X_test, y_test) * 100, 2)\n",
    "print(\"Accuracy_test: {}%\".format(acc_knn))"
   ]
  },
  {
   "cell_type": "code",
   "execution_count": 18,
   "metadata": {
    "collapsed": false
   },
   "outputs": [
    {
     "data": {
      "text/plain": [
       "SGDClassifier(alpha=0.0001, average=False, class_weight=None, epsilon=0.1,\n",
       "       eta0=0.0, fit_intercept=True, l1_ratio=0.15,\n",
       "       learning_rate='optimal', loss='hinge', n_iter=5, n_jobs=1,\n",
       "       penalty='l2', power_t=0.5, random_state=None, shuffle=True,\n",
       "       verbose=0, warm_start=False)"
      ]
     },
     "execution_count": 18,
     "metadata": {},
     "output_type": "execute_result"
    }
   ],
   "source": [
    "sgd = SGDClassifier()\n",
    "sgd.fit(X_train, y_train)"
   ]
  },
  {
   "cell_type": "code",
   "execution_count": 19,
   "metadata": {
    "collapsed": false
   },
   "outputs": [
    {
     "name": "stdout",
     "output_type": "stream",
     "text": [
      "Accuracy_train: 58.25%\n",
      "Accuracy_test: 57.52%\n"
     ]
    }
   ],
   "source": [
    "acc_sgd = round(sgd.score(X_train, y_train) * 100, 2)\n",
    "print(\"Accuracy_train: {}%\".format(acc_sgd))\n",
    "\n",
    "acc_sgd = round(sgd.score(X_test, y_test) * 100, 2)\n",
    "print(\"Accuracy_test: {}%\".format(acc_sgd))"
   ]
  },
  {
   "cell_type": "code",
   "execution_count": 20,
   "metadata": {
    "collapsed": false,
    "scrolled": true
   },
   "outputs": [
    {
     "data": {
      "text/plain": [
       "DecisionTreeClassifier(class_weight=None, criterion='gini', max_depth=None,\n",
       "            max_features=None, max_leaf_nodes=None,\n",
       "            min_impurity_split=1e-07, min_samples_leaf=1,\n",
       "            min_samples_split=2, min_weight_fraction_leaf=0.0,\n",
       "            presort=False, random_state=None, splitter='best')"
      ]
     },
     "execution_count": 20,
     "metadata": {},
     "output_type": "execute_result"
    }
   ],
   "source": [
    "decision_tree = DecisionTreeClassifier()\n",
    "decision_tree.fit(X_train, y_train)"
   ]
  },
  {
   "cell_type": "code",
   "execution_count": 21,
   "metadata": {
    "collapsed": false
   },
   "outputs": [
    {
     "name": "stdout",
     "output_type": "stream",
     "text": [
      "Accuracy_train: 77.03%\n",
      "Accuracy_test: 66.09%\n"
     ]
    }
   ],
   "source": [
    "acc_decision_tree = round(decision_tree.score(X_train, y_train) * 100, 2)\n",
    "print(\"Accuracy_train: {}%\".format(acc_decision_tree))\n",
    "\n",
    "acc_decision_tree = round(decision_tree.score(X_test, y_test) * 100, 2)\n",
    "print(\"Accuracy_test: {}%\".format(acc_decision_tree))"
   ]
  },
  {
   "cell_type": "code",
   "execution_count": 22,
   "metadata": {
    "collapsed": false
   },
   "outputs": [
    {
     "data": {
      "text/plain": [
       "RandomForestClassifier(bootstrap=True, class_weight=None, criterion='gini',\n",
       "            max_depth=None, max_features='auto', max_leaf_nodes=None,\n",
       "            min_impurity_split=1e-07, min_samples_leaf=1,\n",
       "            min_samples_split=2, min_weight_fraction_leaf=0.0,\n",
       "            n_estimators=100, n_jobs=1, oob_score=False, random_state=None,\n",
       "            verbose=0, warm_start=False)"
      ]
     },
     "execution_count": 22,
     "metadata": {},
     "output_type": "execute_result"
    }
   ],
   "source": [
    "random_forest = RandomForestClassifier(n_estimators=100)\n",
    "random_forest.fit(X_train, y_train)"
   ]
  },
  {
   "cell_type": "code",
   "execution_count": 23,
   "metadata": {
    "collapsed": false
   },
   "outputs": [
    {
     "name": "stdout",
     "output_type": "stream",
     "text": [
      "Accuracy_train: 77.03%\n",
      "Accuracy_test: 66.67%\n"
     ]
    }
   ],
   "source": [
    "acc_random_forest = round(random_forest.score(X_train, y_train) * 100, 2)\n",
    "print(\"Accuracy_train: {}%\".format(acc_random_forest))\n",
    "\n",
    "acc_random_forest = round(random_forest.score(X_test, y_test) * 100, 2)\n",
    "print(\"Accuracy_test: {}%\".format(acc_random_forest))"
   ]
  },
  {
   "cell_type": "code",
   "execution_count": 24,
   "metadata": {
    "collapsed": false
   },
   "outputs": [
    {
     "data": {
      "text/plain": [
       "LinearSVC(C=1.0, class_weight=None, dual=True, fit_intercept=True,\n",
       "     intercept_scaling=1, loss='squared_hinge', max_iter=1000,\n",
       "     multi_class='ovr', penalty='l2', random_state=None, tol=0.0001,\n",
       "     verbose=0)"
      ]
     },
     "execution_count": 24,
     "metadata": {},
     "output_type": "execute_result"
    }
   ],
   "source": [
    "linear_svc = LinearSVC()\n",
    "linear_svc.fit(X_train, y_train)"
   ]
  },
  {
   "cell_type": "code",
   "execution_count": 25,
   "metadata": {
    "collapsed": false
   },
   "outputs": [
    {
     "name": "stdout",
     "output_type": "stream",
     "text": [
      "Accuracy_train: 65.22%\n",
      "Accuracy_test: 63.0%\n"
     ]
    }
   ],
   "source": [
    "acc_linear_svc = round(linear_svc.score(X_train, y_train) * 100, 2)\n",
    "print(\"Accuracy_train: {}%\".format(acc_linear_svc))\n",
    "\n",
    "acc_linear_svc = round(linear_svc.score(X_test, y_test) * 100, 2)\n",
    "print(\"Accuracy_test: {}%\".format(acc_linear_svc))"
   ]
  },
  {
   "cell_type": "code",
   "execution_count": null,
   "metadata": {
    "collapsed": true
   },
   "outputs": [],
   "source": [
    "# Predict Using Best Model\n",
    "Y_pred = random_forest.predict(GTD_unknown.drop('gname', axis=1))"
   ]
  },
  {
   "cell_type": "code",
   "execution_count": null,
   "metadata": {
    "collapsed": true
   },
   "outputs": [],
   "source": []
  }
 ],
 "metadata": {
  "kernelspec": {
   "display_name": "Python 3",
   "language": "python",
   "name": "python3"
  },
  "language_info": {
   "codemirror_mode": {
    "name": "ipython",
    "version": 3
   },
   "file_extension": ".py",
   "mimetype": "text/x-python",
   "name": "python",
   "nbconvert_exporter": "python",
   "pygments_lexer": "ipython3",
   "version": "3.6.0"
  }
 },
 "nbformat": 4,
 "nbformat_minor": 2
}
